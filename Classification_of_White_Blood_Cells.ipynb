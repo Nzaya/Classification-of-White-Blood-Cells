{
  "nbformat": 4,
  "nbformat_minor": 0,
  "metadata": {
    "colab": {
      "name": "  Classification_of_White_Blood_Cells.ipynb",
      "provenance": [],
      "collapsed_sections": [],
      "include_colab_link": true
    },
    "kernelspec": {
      "name": "python3",
      "display_name": "Python 3"
    },
    "accelerator": "GPU"
  },
  "cells": [
    {
      "cell_type": "markdown",
      "metadata": {
        "id": "view-in-github",
        "colab_type": "text"
      },
      "source": [
        "<a href=\"https://colab.research.google.com/github/Nzaya/Classification-of-White-Blood-Cells/blob/master/Classification_of_White_Blood_Cells.ipynb\" target=\"_parent\"><img src=\"https://colab.research.google.com/assets/colab-badge.svg\" alt=\"Open In Colab\"/></a>"
      ]
    },
    {
      "cell_type": "markdown",
      "metadata": {
        "id": "9xDlGCBTFJfU",
        "colab_type": "text"
      },
      "source": [
        ">## Context\n",
        ">***\n",
        "> ### Definition\n",
        "> White Blood Cells (WBC), also known as leukocytes, play an important role in the immune system by defending the body against infectious diseases and foreign invaders. A healthy adult's WBC's count ranges between 4,000 and 11,000 WBCs per cubic millimeter of blood depending on the gender, age and level of activity among other factors.\n",
        ">\n",
        "> An abnormal increase of white blood cells is known as leukocytosis while an abnormal decrease is known as leukopenia. Both instances indicate that there is an underlying problem or attack on the body and the immune system has reacted by either increasing the white blood cells to fight off infection, allergies or foreign agents or decreasing the white blood cells as a result of certain infections, drugs administered or other factors that can inhibit the production and replacement of white blood cells in the body.\n",
        ">\n",
        ">\n",
        ">---\n",
        ">\n",
        ">\n",
        "> ### Types and Subtypes of White Blood Cells and their Functions\n",
        "> White Blood Cells are highly differentiated based on their specific function(s) in the human body. Below is a list of white blood cell types and subtypes with a general description of their functions with regards to body immunity:\n",
        "> #### 1. Granulocytes\n",
        "> These cells are responsible for both innate(natural) and adaptive immune responses in the fight against viral and parasitic infections. They are also responsible for inflammation and detection and dealing with allergies. The types of granulocytes include:\n",
        ">\n",
        ">  - **Basophils**    : they release anticoagulant sunstances and antibodies to fight against hypersensitivity(allergies)\n",
        ">  - **Neutrophils**  : they are partof the innate immune system whose role is to fight bacteria\n",
        ">  - **Eosinophils**  :  they release toxins that kill pathogens\n",
        ">\n",
        "> #### 2. Monocytes \n",
        "> These cells are also known as scavenger cells that kill pathogens and clean up cellular debris from infection sites.\n",
        "> \n",
        "> #### 3. Lymphocytes\n",
        "> Lymphocyte cells are responsible for the identification and removal of foreign invaders from the body."
      ]
    },
    {
      "cell_type": "markdown",
      "metadata": {
        "id": "b4qv71ndFJZw",
        "colab_type": "text"
      },
      "source": [
        ">## Problem Statement\n",
        "> ****\n",
        "> **Problem**\n",
        ">\n",
        "> Identification of white blood cells from microscopic images of blood samples through counting and classification is an important step in aiding haematologists in diagnosis of certain diseases (such as leukemia and HIV)  and causes of ailment or bodily discomfort(such as allergies). Manual analysis and classification of white blood cells from microscopic images proves difficult due to the following reasons:\n",
        "> - Variations in the maturition stage\n",
        "> - Intra class variations of cell shapes due to different acquisition and staining processes\n",
        "> - Poor sensitivity\n",
        "> - Sampling errors\n",
        ">\n",
        "> These challenges pose a need to develop an automated system to be used for the classification of white blood cells using machine learning that includes image processing, pattern recognition and deep learning techniques to provide both qualitative and quantitative evaluation, precise results and rapid processing.\n",
        ">\n",
        ">\n",
        "> **Solution**\n",
        ">\n",
        "> By the use of a convolutional neural network, we aim to correctly classify the white blood cells into their respective categories\n",
        "\n",
        "\n",
        "\n"
      ]
    },
    {
      "cell_type": "markdown",
      "metadata": {
        "id": "DWrOEGvbJ11A",
        "colab_type": "text"
      },
      "source": [
        "## Assumptions "
      ]
    },
    {
      "cell_type": "markdown",
      "metadata": {
        "id": "90bi4wQbFJSJ",
        "colab_type": "text"
      },
      "source": [
        ">## Experimental Research Design\n",
        ">****\n",
        ">\n",
        ">True Experimental Research Design This is the methodology we will to use for this research experiment.\n",
        ">\n",
        ">A true experiment research design is a type of experimental design used to test and reject or fail to reject a hypothesis by using statistical analysis as the means of investigation. This type of experiment can also be used to determine cause and effect relationships within groups.\n",
        ">\n",
        ">The following are the assumptions that must be satisfied in order to use the true experiment research design :\n",
        ">\n",
        ">- Control group and experimental group\n",
        "- Researcher - manipulated variable(s)\n",
        "- Random distribution"
      ]
    },
    {
      "cell_type": "markdown",
      "metadata": {
        "id": "gGfYFnnqFJME",
        "colab_type": "text"
      },
      "source": [
        "## Metrics for Success\n",
        "> "
      ]
    },
    {
      "cell_type": "markdown",
      "metadata": {
        "id": "Kw3VlIC7FJGY",
        "colab_type": "text"
      },
      "source": [
        ">## Project Plan\n",
        ">****\n",
        ">1. Contextualizing the problem\n",
        "2. Definition of the research question\n",
        "3. Defining the evaluation metrics\n",
        "4. Data Understanding \n",
        "5. Exploration of the data\n",
        "6. Data preparation and cleaning\n",
        "7. Implementing the solution\n",
        "8. Evaluation of the model\n",
        "9. Summary of findings\n",
        "10. Conclusion"
      ]
    },
    {
      "cell_type": "markdown",
      "metadata": {
        "id": "yUjh4O9zM2NB",
        "colab_type": "text"
      },
      "source": [
        "## Loading Libraries and Files"
      ]
    },
    {
      "cell_type": "code",
      "metadata": {
        "id": "OwEpX59BB0PZ",
        "colab_type": "code",
        "outputId": "f1de3dc2-99f6-431b-bd3a-218fc8414eea",
        "colab": {
          "base_uri": "https://localhost:8080/",
          "height": 679
        }
      },
      "source": [
        "# Installing tensorflow to our environment\n",
        "\n",
        "!pip install tensorflow-gpu"
      ],
      "execution_count": 0,
      "outputs": [
        {
          "output_type": "stream",
          "text": [
            "Collecting tensorflow-gpu\n",
            "\u001b[?25l  Downloading https://files.pythonhosted.org/packages/25/44/47f0722aea081697143fbcf5d2aa60d1aee4aaacb5869aee2b568974777b/tensorflow_gpu-2.0.0-cp36-cp36m-manylinux2010_x86_64.whl (380.8MB)\n",
            "\u001b[K     |████████████████████████████████| 380.8MB 72kB/s \n",
            "\u001b[?25hRequirement already satisfied: termcolor>=1.1.0 in /usr/local/lib/python3.6/dist-packages (from tensorflow-gpu) (1.1.0)\n",
            "Collecting tensorflow-estimator<2.1.0,>=2.0.0 (from tensorflow-gpu)\n",
            "\u001b[?25l  Downloading https://files.pythonhosted.org/packages/95/00/5e6cdf86190a70d7382d320b2b04e4ff0f8191a37d90a422a2f8ff0705bb/tensorflow_estimator-2.0.0-py2.py3-none-any.whl (449kB)\n",
            "\u001b[K     |████████████████████████████████| 450kB 40.4MB/s \n",
            "\u001b[?25hRequirement already satisfied: six>=1.10.0 in /usr/local/lib/python3.6/dist-packages (from tensorflow-gpu) (1.12.0)\n",
            "Requirement already satisfied: protobuf>=3.6.1 in /usr/local/lib/python3.6/dist-packages (from tensorflow-gpu) (3.7.1)\n",
            "Requirement already satisfied: gast==0.2.2 in /usr/local/lib/python3.6/dist-packages (from tensorflow-gpu) (0.2.2)\n",
            "Requirement already satisfied: astor>=0.6.0 in /usr/local/lib/python3.6/dist-packages (from tensorflow-gpu) (0.8.0)\n",
            "Requirement already satisfied: wrapt>=1.11.1 in /usr/local/lib/python3.6/dist-packages (from tensorflow-gpu) (1.11.2)\n",
            "Requirement already satisfied: absl-py>=0.7.0 in /usr/local/lib/python3.6/dist-packages (from tensorflow-gpu) (0.8.0)\n",
            "Requirement already satisfied: keras-preprocessing>=1.0.5 in /usr/local/lib/python3.6/dist-packages (from tensorflow-gpu) (1.1.0)\n",
            "Requirement already satisfied: opt-einsum>=2.3.2 in /usr/local/lib/python3.6/dist-packages (from tensorflow-gpu) (3.1.0)\n",
            "Requirement already satisfied: wheel>=0.26 in /usr/local/lib/python3.6/dist-packages (from tensorflow-gpu) (0.33.6)\n",
            "Requirement already satisfied: numpy<2.0,>=1.16.0 in /usr/local/lib/python3.6/dist-packages (from tensorflow-gpu) (1.16.5)\n",
            "Collecting tensorboard<2.1.0,>=2.0.0 (from tensorflow-gpu)\n",
            "\u001b[?25l  Downloading https://files.pythonhosted.org/packages/9b/a6/e8ffa4e2ddb216449d34cfcb825ebb38206bee5c4553d69e7bc8bc2c5d64/tensorboard-2.0.0-py3-none-any.whl (3.8MB)\n",
            "\u001b[K     |████████████████████████████████| 3.8MB 30.4MB/s \n",
            "\u001b[?25hRequirement already satisfied: keras-applications>=1.0.8 in /usr/local/lib/python3.6/dist-packages (from tensorflow-gpu) (1.0.8)\n",
            "Requirement already satisfied: google-pasta>=0.1.6 in /usr/local/lib/python3.6/dist-packages (from tensorflow-gpu) (0.1.7)\n",
            "Requirement already satisfied: grpcio>=1.8.6 in /usr/local/lib/python3.6/dist-packages (from tensorflow-gpu) (1.15.0)\n",
            "Requirement already satisfied: setuptools in /usr/local/lib/python3.6/dist-packages (from protobuf>=3.6.1->tensorflow-gpu) (41.2.0)\n",
            "Requirement already satisfied: werkzeug>=0.11.15 in /usr/local/lib/python3.6/dist-packages (from tensorboard<2.1.0,>=2.0.0->tensorflow-gpu) (0.16.0)\n",
            "Requirement already satisfied: markdown>=2.6.8 in /usr/local/lib/python3.6/dist-packages (from tensorboard<2.1.0,>=2.0.0->tensorflow-gpu) (3.1.1)\n",
            "Requirement already satisfied: h5py in /usr/local/lib/python3.6/dist-packages (from keras-applications>=1.0.8->tensorflow-gpu) (2.8.0)\n",
            "\u001b[31mERROR: tensorflow 1.15.0rc3 has requirement tensorboard<1.16.0,>=1.15.0, but you'll have tensorboard 2.0.0 which is incompatible.\u001b[0m\n",
            "\u001b[31mERROR: tensorflow 1.15.0rc3 has requirement tensorflow-estimator==1.15.1, but you'll have tensorflow-estimator 2.0.0 which is incompatible.\u001b[0m\n",
            "Installing collected packages: tensorflow-estimator, tensorboard, tensorflow-gpu\n",
            "  Found existing installation: tensorflow-estimator 1.15.1\n",
            "    Uninstalling tensorflow-estimator-1.15.1:\n",
            "      Successfully uninstalled tensorflow-estimator-1.15.1\n",
            "  Found existing installation: tensorboard 1.15.0\n",
            "    Uninstalling tensorboard-1.15.0:\n",
            "      Successfully uninstalled tensorboard-1.15.0\n",
            "Successfully installed tensorboard-2.0.0 tensorflow-estimator-2.0.0 tensorflow-gpu-2.0.0\n"
          ],
          "name": "stdout"
        }
      ]
    },
    {
      "cell_type": "code",
      "metadata": {
        "id": "6hplNduXBz70",
        "colab_type": "code",
        "outputId": "cf9b3d14-4b1b-4724-d7cd-37672785381c",
        "colab": {
          "base_uri": "https://localhost:8080/",
          "height": 35
        }
      },
      "source": [
        "import tensorflow as tf\n",
        "print(tf.__version__)"
      ],
      "execution_count": 0,
      "outputs": [
        {
          "output_type": "stream",
          "text": [
            "1.15.0-rc3\n"
          ],
          "name": "stdout"
        }
      ]
    },
    {
      "cell_type": "code",
      "metadata": {
        "id": "BWo3Gw1xg-K3",
        "colab_type": "code",
        "colab": {}
      },
      "source": [
        "from keras.models import Sequential\n",
        "from keras.layers import Dense, Conv2D, Dropout, MaxPool2D, Flatten\n",
        "from keras.preprocessing import image"
      ],
      "execution_count": 0,
      "outputs": []
    },
    {
      "cell_type": "code",
      "metadata": {
        "id": "5ewwj1QJg-Gi",
        "colab_type": "code",
        "colab": {}
      },
      "source": [
        "#run predictions:\n",
        "generator = image.ImageDataGenerator(\n",
        "        rescale = 1./255,\n",
        "        featurewise_center=False,  # set input mean to 0 over the dataset\n",
        "        samplewise_center=False,  # set each sample mean to 0\n",
        "        featurewise_std_normalization=False,  # divide inputs by std of the dataset\n",
        "        samplewise_std_normalization=False,  # divide each input by its std\n",
        "        zca_whitening=False,  # apply ZCA whitening\n",
        "        rotation_range=10,  # randomly rotate images in the range (degrees, 0 to 180)\n",
        "        width_shift_range=0.1,  # randomly shift images horizontally (fraction of total width)\n",
        "        height_shift_range=0.1,  # randomly shift images vertically (fraction of total height)\n",
        "        horizontal_flip=True,  # randomly flip images\n",
        "        vertical_flip=False)"
      ],
      "execution_count": 0,
      "outputs": []
    },
    {
      "cell_type": "code",
      "metadata": {
        "id": "ptiam2tag-Cd",
        "colab_type": "code",
        "outputId": "1d6276b6-eb2a-468c-a6e9-ade99660ad13",
        "colab": {
          "base_uri": "https://localhost:8080/",
          "height": 35
        }
      },
      "source": [
        "dataset = generator.flow_from_directory(\n",
        "    shuffle = True,\n",
        "    batch_size = 32,\n",
        "    target_size = (80, 80),\n",
        "    directory = '/content/dataset2-master/dataset2-master/images/TRAIN'\n",
        ")\n"
      ],
      "execution_count": 0,
      "outputs": [
        {
          "output_type": "stream",
          "text": [
            "Found 9957 images belonging to 4 classes.\n"
          ],
          "name": "stdout"
        }
      ]
    },
    {
      "cell_type": "code",
      "metadata": {
        "id": "pfoki5BykLUd",
        "colab_type": "code",
        "outputId": "565ecdd8-fb62-41ef-8660-8cdf94a857c0",
        "colab": {
          "base_uri": "https://localhost:8080/",
          "height": 124
        }
      },
      "source": [
        "from google.colab import drive\n",
        "drive.mount('/content/drive')"
      ],
      "execution_count": 0,
      "outputs": [
        {
          "output_type": "stream",
          "text": [
            "Go to this URL in a browser: https://accounts.google.com/o/oauth2/auth?client_id=947318989803-6bn6qk8qdgf4n4g3pfee6491hc0brc4i.apps.googleusercontent.com&redirect_uri=urn%3Aietf%3Awg%3Aoauth%3A2.0%3Aoob&scope=email%20https%3A%2F%2Fwww.googleapis.com%2Fauth%2Fdocs.test%20https%3A%2F%2Fwww.googleapis.com%2Fauth%2Fdrive%20https%3A%2F%2Fwww.googleapis.com%2Fauth%2Fdrive.photos.readonly%20https%3A%2F%2Fwww.googleapis.com%2Fauth%2Fpeopleapi.readonly&response_type=code\n",
            "\n",
            "Enter your authorization code:\n",
            "··········\n",
            "Mounted at /content/drive\n"
          ],
          "name": "stdout"
        }
      ]
    },
    {
      "cell_type": "code",
      "metadata": {
        "id": "cjNRBCYPg9-B",
        "colab_type": "code",
        "colab": {}
      },
      "source": [
        "!unzip -uq '/content/drive/My Drive/blood-cells.zip'"
      ],
      "execution_count": 0,
      "outputs": []
    },
    {
      "cell_type": "code",
      "metadata": {
        "id": "wsw5ZvS0g95n",
        "colab_type": "code",
        "colab": {}
      },
      "source": [
        "def model():\n",
        "    model = Sequential()\n",
        "    model.add(Conv2D(80, (3,3), strides = (1, 1), activation = 'relu', input_shape = (80, 80, 3)))\n",
        "    model.add(Conv2D(64, (3,3), strides = (1, 1), activation = 'relu', input_shape = (80, 80, 3)))\n",
        "    model.add(MaxPool2D(pool_size = (2,2)))\n",
        "    model.add(Conv2D(64, (3,3), strides = (1,1), activation = 'relu'))\n",
        "    model.add(Dropout(0.25))\n",
        "    model.add(Flatten())\n",
        "\n",
        "    model.add(Dense(128, activation = 'relu'))\n",
        "    model.add(Dropout(0.5))\n",
        "    model.add(Dense(4, activation = 'softmax'))\n",
        "\n",
        "    model.compile(loss = 'categorical_crossentropy', optimizer = 'adadelta', metrics = ['accuracy'])\n",
        "    \n",
        "    return model\n"
      ],
      "execution_count": 0,
      "outputs": []
    },
    {
      "cell_type": "code",
      "metadata": {
        "id": "wDU9gclhlKOt",
        "colab_type": "code",
        "outputId": "ccb4d570-87f5-414f-9ea2-72176c626dc3",
        "colab": {
          "base_uri": "https://localhost:8080/",
          "height": 35
        }
      },
      "source": [
        "dataset"
      ],
      "execution_count": 0,
      "outputs": [
        {
          "output_type": "execute_result",
          "data": {
            "text/plain": [
              "<keras_preprocessing.image.directory_iterator.DirectoryIterator at 0x7f353ea30d68>"
            ]
          },
          "metadata": {
            "tags": []
          },
          "execution_count": 101
        }
      ]
    },
    {
      "cell_type": "code",
      "metadata": {
        "id": "wlhlUHAqg91x",
        "colab_type": "code",
        "outputId": "090e095e-4a89-4a37-9cba-bd19484b7809",
        "colab": {
          "base_uri": "https://localhost:8080/",
          "height": 1000
        }
      },
      "source": [
        "\n",
        "nn = model()\n",
        "nn.fit_generator(dataset, steps_per_epoch = None, epochs = 30, verbose = 1)\n",
        "nn.save('Model.h5')"
      ],
      "execution_count": 0,
      "outputs": [
        {
          "output_type": "stream",
          "text": [
            "Epoch 1/30\n",
            "312/312 [==============================] - 41s 132ms/step - loss: 1.4184 - acc: 0.2789\n",
            "Epoch 2/30\n",
            "312/312 [==============================] - 40s 130ms/step - loss: 1.3250 - acc: 0.3702\n",
            "Epoch 3/30\n",
            "312/312 [==============================] - 41s 130ms/step - loss: 1.1929 - acc: 0.4485\n",
            "Epoch 4/30\n",
            "312/312 [==============================] - 40s 129ms/step - loss: 1.0579 - acc: 0.5274\n",
            "Epoch 5/30\n",
            "312/312 [==============================] - 40s 130ms/step - loss: 0.8890 - acc: 0.6120\n",
            "Epoch 6/30\n",
            "312/312 [==============================] - 41s 130ms/step - loss: 0.7640 - acc: 0.6666\n",
            "Epoch 7/30\n",
            "312/312 [==============================] - 40s 129ms/step - loss: 0.6498 - acc: 0.7016\n",
            "Epoch 8/30\n",
            "312/312 [==============================] - 40s 129ms/step - loss: 0.5927 - acc: 0.7453\n",
            "Epoch 9/30\n",
            "312/312 [==============================] - 40s 129ms/step - loss: 0.5466 - acc: 0.7822\n",
            "Epoch 10/30\n",
            "312/312 [==============================] - 40s 129ms/step - loss: 0.5112 - acc: 0.7979\n",
            "Epoch 11/30\n",
            "312/312 [==============================] - 40s 129ms/step - loss: 0.4549 - acc: 0.8175\n",
            "Epoch 12/30\n",
            "312/312 [==============================] - 40s 129ms/step - loss: 0.3749 - acc: 0.8459\n",
            "Epoch 13/30\n",
            "312/312 [==============================] - 40s 129ms/step - loss: 0.4061 - acc: 0.8446\n",
            "Epoch 14/30\n",
            "312/312 [==============================] - 40s 128ms/step - loss: 0.3611 - acc: 0.8556\n",
            "Epoch 15/30\n",
            "312/312 [==============================] - 40s 129ms/step - loss: 0.3263 - acc: 0.8679\n",
            "Epoch 16/30\n",
            "312/312 [==============================] - 40s 129ms/step - loss: 0.3001 - acc: 0.8834\n",
            "Epoch 17/30\n",
            "312/312 [==============================] - 40s 129ms/step - loss: 0.3030 - acc: 0.8820\n",
            "Epoch 18/30\n",
            "312/312 [==============================] - 40s 130ms/step - loss: 0.2871 - acc: 0.8888\n",
            "Epoch 19/30\n",
            "312/312 [==============================] - 40s 130ms/step - loss: 0.2680 - acc: 0.9001\n",
            "Epoch 20/30\n",
            "312/312 [==============================] - 40s 130ms/step - loss: 0.2597 - acc: 0.9047\n",
            "Epoch 21/30\n",
            "312/312 [==============================] - 40s 129ms/step - loss: 0.2753 - acc: 0.8935\n",
            "Epoch 22/30\n",
            "312/312 [==============================] - 40s 129ms/step - loss: 0.2380 - acc: 0.9004\n",
            "Epoch 23/30\n",
            "312/312 [==============================] - 40s 129ms/step - loss: 0.2870 - acc: 0.8940\n",
            "Epoch 24/30\n",
            "312/312 [==============================] - 40s 129ms/step - loss: 0.2260 - acc: 0.9117\n",
            "Epoch 25/30\n",
            "312/312 [==============================] - 40s 129ms/step - loss: 0.2329 - acc: 0.9106\n",
            "Epoch 26/30\n",
            "312/312 [==============================] - 40s 129ms/step - loss: 0.8884 - acc: 0.8746\n",
            "Epoch 27/30\n",
            "312/312 [==============================] - 40s 129ms/step - loss: 0.2080 - acc: 0.9187\n",
            "Epoch 28/30\n",
            "312/312 [==============================] - 40s 129ms/step - loss: 0.1931 - acc: 0.9252\n",
            "Epoch 29/30\n",
            "312/312 [==============================] - 40s 128ms/step - loss: 0.1973 - acc: 0.9262\n",
            "Epoch 30/30\n",
            "312/312 [==============================] - 40s 129ms/step - loss: 0.1968 - acc: 0.9234\n"
          ],
          "name": "stdout"
        }
      ]
    },
    {
      "cell_type": "code",
      "metadata": {
        "id": "EOzu8f6bwz6b",
        "colab_type": "code",
        "outputId": "905812a4-b7c2-4ca8-c0b3-24ff6ace877a",
        "colab": {
          "resources": {
            "http://localhost:8080/nbextensions/google.colab/files.js": {
              "data": "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",
              "ok": true,
              "headers": [
                [
                  "content-type",
                  "application/javascript"
                ]
              ],
              "status": 200,
              "status_text": ""
            }
          },
          "base_uri": "https://localhost:8080/",
          "height": 75
        }
      },
      "source": [
        "from google.colab import files\n",
        "files.upload()"
      ],
      "execution_count": 0,
      "outputs": [
        {
          "output_type": "display_data",
          "data": {
            "text/html": [
              "\n",
              "     <input type=\"file\" id=\"files-b6cf78e2-0015-4c75-9377-27079609e137\" name=\"files[]\" multiple disabled />\n",
              "     <output id=\"result-b6cf78e2-0015-4c75-9377-27079609e137\">\n",
              "      Upload widget is only available when the cell has been executed in the\n",
              "      current browser session. Please rerun this cell to enable.\n",
              "      </output>\n",
              "      <script src=\"/nbextensions/google.colab/files.js\"></script> "
            ],
            "text/plain": [
              "<IPython.core.display.HTML object>"
            ]
          },
          "metadata": {
            "tags": []
          }
        },
        {
          "output_type": "stream",
          "text": [
            "Saving Model.h5 to Model (1).h5\n"
          ],
          "name": "stdout"
        }
      ]
    },
    {
      "cell_type": "code",
      "metadata": {
        "id": "CCLgVQ6rg9tf",
        "colab_type": "code",
        "colab": {}
      },
      "source": [
        "from keras.models import load_model\n",
        "import numpy\n",
        "import os\n",
        "from PIL import Image\n",
        "\n",
        "model = load_model('Model.h5')\n",
        "\n"
      ],
      "execution_count": 0,
      "outputs": []
    },
    {
      "cell_type": "markdown",
      "metadata": {
        "id": "1l15NaAfyUIM",
        "colab_type": "text"
      },
      "source": [
        "# PREDICTION FOR THE TEST CELL"
      ]
    },
    {
      "cell_type": "code",
      "metadata": {
        "id": "HA3dEUTZ60en",
        "colab_type": "code",
        "outputId": "6ef19250-35dc-4550-8497-3ece6e04e277",
        "colab": {
          "base_uri": "https://localhost:8080/",
          "height": 35
        }
      },
      "source": [
        "##demo code check for EOSINOPHIL\n",
        "\n",
        "eso = []\n",
        "path = '/content/dataset2-master/dataset2-master/images/TEST/EOSINOPHIL'\n",
        "for file in os.listdir('/content/dataset2-master/dataset2-master/images/TEST/EOSINOPHIL'):\n",
        "  image = path + '/' + file\n",
        "  image = cv2.imread(image)\n",
        "  image = image /255.0\n",
        "  image = cv2.resize(image, (80, 80))\n",
        "  image = image.reshape(1, 80, 80, 3)\n",
        "  prediction = model.predict(image)\n",
        "  if numpy.argmax(prediction) == 0: correct+=1\n",
        "  else: wrong+=1\n",
        "  total+=1\n",
        "\n",
        "print('EOSINOPHIL :::: Result : ', 'Correct prediction %: ', (correct/total)*100, 'Wrong prediction : %', (wrong/total)*100)  "
      ],
      "execution_count": 0,
      "outputs": [
        {
          "output_type": "stream",
          "text": [
            "EOSINOPHIL :::: Result :  Correct prediction %:  35.24688879967884 Wrong prediction : % 64.75311120032116\n"
          ],
          "name": "stdout"
        }
      ]
    },
    {
      "cell_type": "code",
      "metadata": {
        "id": "kEeZfWqAo-Q8",
        "colab_type": "code",
        "outputId": "751de977-3a17-4090-b715-28373939f958",
        "colab": {
          "base_uri": "https://localhost:8080/",
          "height": 35
        }
      },
      "source": [
        "#demo code check for LYMPHOCYTE\n",
        "\n",
        "lympho=[]\n",
        "\n",
        "path = '/content/dataset2-master/dataset2-master/images/TEST/LYMPHOCYTE'\n",
        "for file in os.listdir('/content/dataset2-master/dataset2-master/images/TEST/LYMPHOCYTE'):\n",
        "  image = path + '/' + file\n",
        "  image = cv2.imread(image)\n",
        "  image = image /255.0\n",
        "  image = cv2.resize(image, (80, 80))\n",
        "  image = image.reshape(1, 80, 80, 3)\n",
        "  prediction = model.predict(image)\n",
        "  if numpy.argmax(prediction) == 1: correct+=1\n",
        "  else: wrong+=1\n",
        "  total+=1\n",
        "  \n",
        "print('LYMPHOCYTE :::: Result : ', 'Correct prediction %: ', (correct/total)*100, 'Wrong prediction : %', (wrong/total)*100)\n"
      ],
      "execution_count": 0,
      "outputs": [
        {
          "output_type": "stream",
          "text": [
            "LYMPHOCYTE :::: Result :  Correct prediction %:  32.546645248980596 Wrong prediction : % 67.4533547510194\n"
          ],
          "name": "stdout"
        }
      ]
    },
    {
      "cell_type": "code",
      "metadata": {
        "id": "gTc29oqmrtov",
        "colab_type": "code",
        "outputId": "c7d6db90-0ae1-4a14-9e6c-ca4b79b4f251",
        "colab": {
          "base_uri": "https://localhost:8080/",
          "height": 35
        }
      },
      "source": [
        "#demo code check for MONOCYTE\n",
        "\n",
        "mono=[]\n",
        "\n",
        "path = '/content/dataset2-master/dataset2-master/images/TEST/MONOCYTE'\n",
        "for file in os.listdir('/content/dataset2-master/dataset2-master/images/TEST/MONOCYTE'):\n",
        "  image = path + '/' + file\n",
        "  image = cv2.imread(image)\n",
        "  image = image /255.0\n",
        "  image = cv2.resize(image, (80, 80))\n",
        "  image = image.reshape(1, 80, 80, 3)\n",
        "  prediction = model.predict(image)\n",
        "  if numpy.argmax(prediction) == 2: correct+=1\n",
        "  else: wrong+=1\n",
        "  total+=1\n",
        "\n",
        "print('LYMPHOCYTE :::: Result : ', 'Correct prediction %: ', (correct/total)*100, 'Wrong prediction : %', (wrong/total)*100)\n"
      ],
      "execution_count": 0,
      "outputs": [
        {
          "output_type": "stream",
          "text": [
            "LYMPHOCYTE :::: Result :  Correct prediction %:  33.75416044990244 Wrong prediction : % 66.24583955009756\n"
          ],
          "name": "stdout"
        }
      ]
    },
    {
      "cell_type": "code",
      "metadata": {
        "id": "kKe5Iupio-Mo",
        "colab_type": "code",
        "outputId": "642e9ba6-5482-4261-c064-fa31598bbb89",
        "colab": {
          "base_uri": "https://localhost:8080/",
          "height": 35
        }
      },
      "source": [
        "#demo code check for NEUTROPHIL\n",
        "\n",
        "neutro=[]\n",
        "\n",
        "path = '/content/dataset2-master/dataset2-master/images/TEST/NEUTROPHIL'\n",
        "for file in os.listdir('//content/dataset2-master/dataset2-master/images/TEST/NEUTROPHIL'):\n",
        "  image = path + '/' + file\n",
        "  image = cv2.imread(image)\n",
        "  image = image /255.0\n",
        "  image = cv2.resize(image, (80, 80))\n",
        "  image = image.reshape(1, 80, 80, 3)\n",
        "  prediction = model.predict(image)\n",
        "  if numpy.argmax(prediction) == 3: correct+=1\n",
        "  else: wrong+=1\n",
        "  total+=1\n",
        "\n",
        "print('NEUTROPHIL ::: Result : ', 'Correct prediction %: ', (correct/total)*100, 'Wrong prediction : %', (wrong/total)*100)"
      ],
      "execution_count": 0,
      "outputs": [
        {
          "output_type": "stream",
          "text": [
            "NEUTROPHIL ::: Result :  Correct prediction %:  31.498339937881546 Wrong prediction : % 68.50166006211845\n"
          ],
          "name": "stdout"
        }
      ]
    },
    {
      "cell_type": "markdown",
      "metadata": {
        "id": "AQuNjWsEyI90",
        "colab_type": "text"
      },
      "source": [
        "# TRAIN PREDICTION FOR EACH CELL"
      ]
    },
    {
      "cell_type": "code",
      "metadata": {
        "id": "RNTPeMhPo-F3",
        "colab_type": "code",
        "outputId": "1fd692d9-0779-4466-c9ba-2a1c62f57a10",
        "colab": {
          "base_uri": "https://localhost:8080/",
          "height": 35
        }
      },
      "source": [
        "neutro=[]\n",
        "\n",
        "path = '/content/dataset2-master/dataset2-master/images/TRAIN/NEUTROPHIL'\n",
        "for file in os.listdir('/content/dataset2-master/dataset2-master/images/TRAIN/NEUTROPHIL'):\n",
        "  image = path + '/' + file\n",
        "  image = cv2.imread(image)\n",
        "  image = image /255.0\n",
        "  image = cv2.resize(image, (80, 80))\n",
        "  image = image.reshape(1, 80, 80, 3)\n",
        "  prediction = model.predict(image)\n",
        "  if numpy.argmax(prediction) == 3: correct+=1\n",
        "  else: wrong+=1\n",
        "  total+=1\n",
        "\n",
        "print('NEUTROPHIL ::: Result : ', 'Correct prediction %: ', (correct/total)*100, 'Wrong prediction : %', (wrong/total)*100)"
      ],
      "execution_count": 0,
      "outputs": [
        {
          "output_type": "stream",
          "text": [
            "NEUTROPHIL ::: Result :  Correct prediction %:  24.89861439675566 Wrong prediction : % 75.10138560324434\n"
          ],
          "name": "stdout"
        }
      ]
    },
    {
      "cell_type": "code",
      "metadata": {
        "id": "uKQc4sQuo-BF",
        "colab_type": "code",
        "outputId": "e4e91edb-c090-44b0-e586-bc688aa51a7b",
        "colab": {
          "base_uri": "https://localhost:8080/",
          "height": 35
        }
      },
      "source": [
        "#demo code check for MONOCYTE\n",
        "\n",
        "mono=[]\n",
        "\n",
        "path = '/content/dataset2-master/dataset2-master/images/TRAIN/MONOCYTE'\n",
        "for file in os.listdir('/content/dataset2-master/dataset2-master/images/TRAIN/MONOCYTE'):\n",
        "  image = path + '/' + file\n",
        "  image = cv2.imread(image)\n",
        "  image = image /255.0\n",
        "  image = cv2.resize(image, (80, 80))\n",
        "  image = image.reshape(1, 80, 80, 3)\n",
        "  prediction = model.predict(image)\n",
        "  if numpy.argmax(prediction) == 2: correct+=1\n",
        "  else: wrong+=1\n",
        "  total+=1\n",
        "\n",
        "print('MONOCYTE :::: Result : ', 'Correct prediction %: ', (correct/total)*100, 'Wrong prediction : %', (wrong/total)*100)"
      ],
      "execution_count": 0,
      "outputs": [
        {
          "output_type": "stream",
          "text": [
            "MONOCYTE :::: Result :  Correct prediction %:  30.284697508896798 Wrong prediction : % 69.7153024911032\n"
          ],
          "name": "stdout"
        }
      ]
    },
    {
      "cell_type": "code",
      "metadata": {
        "id": "7dEL8e9qo9zf",
        "colab_type": "code",
        "outputId": "98604f72-9154-456a-d4c8-a5b060e3ce6b",
        "colab": {
          "base_uri": "https://localhost:8080/",
          "height": 35
        }
      },
      "source": [
        "#demo code check for LYMPHOCYTE\n",
        "\n",
        "lympho=[]\n",
        "\n",
        "path = '/content/dataset2-master/dataset2-master/images/TRAIN/LYMPHOCYTE'\n",
        "for file in os.listdir('/content/dataset2-master/dataset2-master/images/TRAIN/LYMPHOCYTE'):\n",
        "  image = path + '/' + file\n",
        "  image = cv2.imread(image)\n",
        "  image = image /255.0\n",
        "  image = cv2.resize(image, (80, 80))\n",
        "  image = image.reshape(1, 80, 80, 3)\n",
        "  prediction = model.predict(image)\n",
        "  if numpy.argmax(prediction) == 1: correct+=1\n",
        "  else: wrong+=1\n",
        "  total+=1\n",
        "  \n",
        "print('LYMPHOCYTE :::: Result : ', 'Correct prediction %: ', (correct/total)*100, 'Wrong prediction : %', (wrong/total)*100)"
      ],
      "execution_count": 0,
      "outputs": [
        {
          "output_type": "stream",
          "text": [
            "LYMPHOCYTE :::: Result :  Correct prediction %:  26.89026316977385 Wrong prediction : % 73.10973683022615\n"
          ],
          "name": "stdout"
        }
      ]
    },
    {
      "cell_type": "code",
      "metadata": {
        "id": "teLf-Rif0oAb",
        "colab_type": "code",
        "colab": {}
      },
      "source": [
        ""
      ],
      "execution_count": 0,
      "outputs": []
    }
  ]
}